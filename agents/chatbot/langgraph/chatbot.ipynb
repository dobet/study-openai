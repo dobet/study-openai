{
 "cells": [
  {
   "cell_type": "markdown",
   "metadata": {},
   "source": [
    "# langgraph入门\n",
    "\n",
    "使用图数据结构来定义流程走向\n",
    "\n",
    "# 根据用户输入来处理\n",
    "user_inpit = input(\"User\")\n",
    "\n",
    "\n",
    "graph.stream这个是用于流式处理对话的。拿到的event，实际是有响应的node"
   ]
  },
  {
   "cell_type": "markdown",
   "metadata": {},
   "source": [
    "# 工具使用\n",
    "\n",
    "如果需要自定义一个工具使用的逻辑的话，可以自定一个基工具类，然后实现__call__函数即可\n",
    "这样就可以把一些列的工作，当作一个节点使用"
   ]
  },
  {
   "cell_type": "code",
   "execution_count": null,
   "metadata": {},
   "outputs": [],
   "source": [
    "class BasicToolNode:\n",
    "    def __init__(self, tools: list):\n",
    "        self.tools_by_name = {tool.name: tool for tool in tools}\n",
    "\n",
    "    def __call__(self, input: dict):\n",
    "        if messages := input.get(\"messages\", []):\n",
    "            message = messages[-1]\n",
    "        else:\n",
    "            raise ValueError(\"No messages provided\")\n",
    "\n",
    "        outputs = []\n",
    "        # 大模型只要确认调用工具，就会把需要调用的工具信息给返回\n",
    "        for tool_call in message.tool_calls:\n",
    "            tool_result = self.tools_by_name[tool_call[\"name\"]].invoke(\n",
    "                tool_call[\"args\"]\n",
    "            )\n",
    "            outputs.append(\n",
    "                ToolMessage(\n",
    "                    content=json.dumps(tool_result),\n",
    "                    name=tool_call[\"name\"],\n",
    "                    tool_call_id=tool_call[\"id\"]\n",
    "                )\n",
    "            )\n",
    "\n",
    "        return {\"messages\": outputs}\n"
   ]
  },
  {
   "cell_type": "markdown",
   "metadata": {},
   "source": [
    "# 记忆\n",
    "\n",
    "在langgraph中，支持内存、sqlite、pg进行内存存储\n",
    "内存的话，断电就失效，sqlite和pg支持持久化\n",
    "\n",
    "同时，可以根据不同的线程id进行会话记忆隔离"
   ]
  },
  {
   "cell_type": "code",
   "execution_count": null,
   "metadata": {},
   "outputs": [],
   "source": [
    "# 使用sqlite进行持久化\n",
    "conn = sqlite3.connect(\"checkpoints.sqlite\", check_same_thread=False)\n",
    "memory = SqliteSaver(conn)\n",
    "\n",
    "def build_graph():\n",
    "    graph_builder = StateGraph(State)\n",
    "    \n",
    "    graph_builder.add_node(\"chatbot\", chatbot)\n",
    "    \n",
    "    graph_builder.add_edge(START, \"chatbot\")\n",
    "    graph_builder.add_edge(\"chatbot\", END)\n",
    "    \n",
    "    # 编译图时，带上\n",
    "    return graph_builder.compile(checkpointer=memory)\n",
    "\n",
    "\n",
    "    \n",
    "def main():\n",
    "    while True:\n",
    "        user_input = input(\"User: \")\n",
    "        if user_input.lower() in [\"exit\", \"quit\", \"q\"]:\n",
    "            print(\"goodbye!\")\n",
    "            break\n",
    "        \n",
    "        graph = build_graph()\n",
    "        # 设置会话的线程id，进行隔离\n",
    "        config = {\"configurable\": {\"thread_id\": \"1\"}}\n",
    "        events = graph.stream(\n",
    "            {\"messages\": [(\"user\", user_input)]},\n",
    "            config,\n",
    "            stream_mode=\"values\"\n",
    "        )\n"
   ]
  },
  {
   "cell_type": "markdown",
   "metadata": {},
   "source": [
    "# 人为介入\n",
    "\n",
    "有几种情况\n",
    "1、某个节点调用前   interrupt_before\n",
    "2、在某个节点中     interrupt\n",
    "3、某个节点调用后   interruppt_after\n",
    "\n",
    "\n",
    "## 原理：\n",
    "\n",
    "    langgraph会保存每个node的全局状态，当发现有interrupt时，整个状态进行保存，然后等待人为输入的完成以后，从中断节点开始重新执行\n",
    "\n",
    "这里会存在一个问题，中断节点中这种时候，前面执行过的逻辑，都会再执行一边\n",
    "\n",
    "\n",
    "支持人为的修改执行结果\n",
    "\n",
    "\n"
   ]
  },
  {
   "cell_type": "code",
   "execution_count": null,
   "metadata": {},
   "outputs": [],
   "source": [
    "# 编译状态图，指定在工具节点之前进行中断\n",
    "graph = graph_builder.compile(\n",
    "    checkpointer=memory,  # 使用 MemorySaver 作为检查点系统\n",
    "    interrupt_before=[\"tools\"],  # 在进入 \"tools\" 节点前进行中断\n",
    ")"
   ]
  },
  {
   "cell_type": "markdown",
   "metadata": {},
   "source": [
    "# 查询对话历史\n",
    "\n",
    "可以通过graph获取\n"
   ]
  },
  {
   "cell_type": "code",
   "execution_count": null,
   "metadata": {},
   "outputs": [],
   "source": [
    "history = graph.get_state_history({\"configurable\": {\"thread_id\": \"1\"}})\n",
    "\n",
    "# 遍历历史记录，打印每个状态中的所有消息\n",
    "for state in history:\n",
    "    print(\"=== 对话历史 ===\")\n",
    "    # 遍历每个状态中的消息记录\n",
    "    for message in state.values[\"messages\"]:\n",
    "        if isinstance(message, BaseMessage):\n",
    "            # 根据消息类型区分用户与机器人\n",
    "            if \"user\" in message.content.lower():\n",
    "                print(f\"User: {message.content}\")\n",
    "            else:\n",
    "                print(f\"Assistant: {message.content}\")"
   ]
  },
  {
   "cell_type": "markdown",
   "metadata": {},
   "source": [
    "\n",
    "这里是支持根据不同线程id，进行会话区分的\n",
    "\n",
    "## events只能获取当前对话的步骤\n",
    "\n",
    "由于langgraph的设定，graph.stream只会获取当前会话的历史记录\n",
    "\n",
    "## 如何对于历史会话去重？\n",
    "\n",
    "- 原因：重复的状态快照和无消息的中间状态导致了多次重复的对话历史和空对话历史。\n",
    "- 解决办法：通过检查消息类型和ID来过滤无效和重复的消息，只输出真正有对话内容的状态快照"
   ]
  },
  {
   "cell_type": "code",
   "execution_count": null,
   "metadata": {},
   "outputs": [],
   "source": [
    "# 获取指定线程 ID 的所有历史状态\n",
    "history = graph.get_state_history({\"configurable\": {\"thread_id\": \"3\"}})\n",
    "\n",
    "# 使用集合存储已处理过的消息 ID\n",
    "seen_message_ids = set()\n",
    "\n",
    "# 遍历历史记录，打印每个状态中的所有消息\n",
    "for state in history:\n",
    "    # 获取状态中的消息列表\n",
    "    messages = state.values.get(\"messages\", [])\n",
    "    \n",
    "    # 检查是否存在至少一条未处理的 BaseMessage 类型的消息\n",
    "    valid_messages = [msg for msg in messages if isinstance(msg, BaseMessage) and msg.id not in seen_message_ids]\n",
    "    \n",
    "    if valid_messages:\n",
    "        print(\"=== 对话历史 ===\")\n",
    "        for message in valid_messages:\n",
    "            seen_message_ids.add(message.id)  # 记录消息 ID，避免重复处理\n",
    "            if \"user\" in message.content.lower():\n",
    "                print(f\"User: {message.content}\")\n",
    "            else:\n",
    "                print(f\"Assistant: {message.content}\")\n",
    "    else:\n",
    "        print(\"=== 空对话历史（无有效消息） ===\")"
   ]
  }
 ],
 "metadata": {
  "language_info": {
   "name": "python"
  }
 },
 "nbformat": 4,
 "nbformat_minor": 2
}
